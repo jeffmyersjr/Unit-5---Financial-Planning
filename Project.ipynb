{
 "cells": [
  {
   "cell_type": "markdown",
   "metadata": {},
   "source": [
    "# Jeff Myers\n",
    "# Unit 5 - Financial Planning"
   ]
  },
  {
   "cell_type": "code",
   "execution_count": 1,
   "metadata": {},
   "outputs": [],
   "source": [
    "# Initial imports\n",
    "import os\n",
    "import requests\n",
    "import pandas as pd\n",
    "from dotenv import load_dotenv\n",
    "import alpaca_trade_api as tradeapi\n",
    "from MCForecastTools import MCSimulation\n",
    "\n",
    "%matplotlib inline"
   ]
  },
  {
   "cell_type": "code",
   "execution_count": 2,
   "metadata": {},
   "outputs": [
    {
     "data": {
      "text/plain": [
       "True"
      ]
     },
     "execution_count": 2,
     "metadata": {},
     "output_type": "execute_result"
    }
   ],
   "source": [
    "# Load .env enviro variables\n",
    "load_dotenv()"
   ]
  },
  {
   "cell_type": "markdown",
   "metadata": {},
   "source": [
    "## Part 1 -  Personal Finance Planner"
   ]
  },
  {
   "cell_type": "markdown",
   "metadata": {},
   "source": [
    "### Collect Crypto Prices"
   ]
  },
  {
   "cell_type": "code",
   "execution_count": 3,
   "metadata": {},
   "outputs": [],
   "source": [
    "# import requests and json\n",
    "import requests\n",
    "import json"
   ]
  },
  {
   "cell_type": "code",
   "execution_count": 4,
   "metadata": {},
   "outputs": [],
   "source": [
    "# Set current amount of crypto assets\n",
    "my_btc = 1.2\n",
    "my_eth = 5.3\n",
    "\n",
    "# Crypto API URLs\n",
    "btc_url = \"https://api.alternative.me/v1/ticker/\"\n",
    "eth_url = \"https://api.alternative.me/v1/ticker/\""
   ]
  },
  {
   "cell_type": "code",
   "execution_count": 5,
   "metadata": {},
   "outputs": [],
   "source": [
    "# Fetch current BTC price and calculate current BTC of my portfolio\n",
    "btc_fetch = requests.get(btc_url).json()\n",
    "btc_value = float(btc_fetch[0][\"price_usd\"])\n",
    "my_btc_value = btc_value * my_btc\n"
   ]
  },
  {
   "cell_type": "code",
   "execution_count": 6,
   "metadata": {},
   "outputs": [],
   "source": [
    "# Fetch current ETH price and calculate current ETH of my portfolio\n",
    "eth_fetch = requests.get(eth_url).json()\n",
    "eth_value = float(eth_fetch[1][\"price_usd\"])\n",
    "my_eth_value = eth_value * my_eth\n"
   ]
  },
  {
   "cell_type": "code",
   "execution_count": 7,
   "metadata": {},
   "outputs": [
    {
     "name": "stdout",
     "output_type": "stream",
     "text": [
      "The current value of my 1.2 BTC is $15726.54\n",
      "The current value of my 5.3 ETH is $2211.64\n"
     ]
    }
   ],
   "source": [
    "# Print Current Value of my crypto\n",
    "print(f\"The current value of my {my_btc} BTC is ${my_btc_value:0.2f}\")\n",
    "print(f\"The current value of my {my_eth} ETH is ${my_eth_value:0.2f}\")"
   ]
  },
  {
   "cell_type": "markdown",
   "metadata": {},
   "source": [
    "### Investment Data Using Alpaca: SPY & AGG"
   ]
  },
  {
   "cell_type": "code",
   "execution_count": 8,
   "metadata": {},
   "outputs": [],
   "source": [
    "# Current amount of shares\n",
    "my_agg = 200\n",
    "my_spy = 50"
   ]
  },
  {
   "cell_type": "code",
   "execution_count": 9,
   "metadata": {},
   "outputs": [],
   "source": [
    "# Set Alpaca API key and secret\n",
    "alpaca_api_key = os.getenv(\"ALPACA_API_KEY\")\n",
    "alpaca_secret_key = os.getenv(\"ALPACA_SECRET_KEY\")\n",
    "\n",
    "# Create the Alpaca API object\n",
    "api = tradeapi.REST(\n",
    "    alpaca_api_key,\n",
    "    alpaca_secret_key,\n",
    "    api_version = \"v2\"\n",
    ")"
   ]
  },
  {
   "cell_type": "code",
   "execution_count": 10,
   "metadata": {},
   "outputs": [
    {
     "data": {
      "text/html": [
       "<div>\n",
       "<style scoped>\n",
       "    .dataframe tbody tr th:only-of-type {\n",
       "        vertical-align: middle;\n",
       "    }\n",
       "\n",
       "    .dataframe tbody tr th {\n",
       "        vertical-align: top;\n",
       "    }\n",
       "\n",
       "    .dataframe thead tr th {\n",
       "        text-align: left;\n",
       "    }\n",
       "</style>\n",
       "<table border=\"1\" class=\"dataframe\">\n",
       "  <thead>\n",
       "    <tr>\n",
       "      <th></th>\n",
       "      <th colspan=\"5\" halign=\"left\">AGG</th>\n",
       "      <th colspan=\"5\" halign=\"left\">SPY</th>\n",
       "    </tr>\n",
       "    <tr>\n",
       "      <th></th>\n",
       "      <th>open</th>\n",
       "      <th>high</th>\n",
       "      <th>low</th>\n",
       "      <th>close</th>\n",
       "      <th>volume</th>\n",
       "      <th>open</th>\n",
       "      <th>high</th>\n",
       "      <th>low</th>\n",
       "      <th>close</th>\n",
       "      <th>volume</th>\n",
       "    </tr>\n",
       "  </thead>\n",
       "  <tbody>\n",
       "    <tr>\n",
       "      <th>2020-10-21 00:00:00-04:00</th>\n",
       "      <td>117.59</td>\n",
       "      <td>117.64</td>\n",
       "      <td>117.48</td>\n",
       "      <td>117.515</td>\n",
       "      <td>2829309</td>\n",
       "      <td>343.33</td>\n",
       "      <td>345.67</td>\n",
       "      <td>342.45</td>\n",
       "      <td>342.69</td>\n",
       "      <td>43419032</td>\n",
       "    </tr>\n",
       "  </tbody>\n",
       "</table>\n",
       "</div>"
      ],
      "text/plain": [
       "                              AGG                                       SPY  \\\n",
       "                             open    high     low    close   volume    open   \n",
       "2020-10-21 00:00:00-04:00  117.59  117.64  117.48  117.515  2829309  343.33   \n",
       "\n",
       "                                                             \n",
       "                             high     low   close    volume  \n",
       "2020-10-21 00:00:00-04:00  345.67  342.45  342.69  43419032  "
      ]
     },
     "execution_count": 10,
     "metadata": {},
     "output_type": "execute_result"
    }
   ],
   "source": [
    "# Format to  current date as ISO format\n",
    "today = pd.Timestamp(\"2020-10-21\", tz=\"America/New_York\").isoformat()\n",
    "\n",
    "# Set the tickers\n",
    "tickers = [\"AGG\", \"SPY\"]\n",
    "\n",
    "# Set timeframe to '1D' for Alpaca API\n",
    "timeframe = \"1D\"\n",
    "\n",
    "# Current Closing Prices for SPY & AGG\n",
    "\n",
    "etf_portfolio = api.get_barset(\n",
    "    tickers,\n",
    "    timeframe,\n",
    "    start = today,\n",
    "    end = today\n",
    ").df\n",
    "\n",
    "# Display Data\n",
    "etf_portfolio"
   ]
  },
  {
   "cell_type": "code",
   "execution_count": 11,
   "metadata": {},
   "outputs": [
    {
     "name": "stdout",
     "output_type": "stream",
     "text": [
      "Current AGG closing price: $117.52\n",
      "Current SPY closing price: $342.69\n"
     ]
    }
   ],
   "source": [
    "# Fetch AGG and SPY close prices\n",
    "\n",
    "agg_price = float(etf_portfolio[\"AGG\"][\"close\"])\n",
    "spy_price = float(etf_portfolio[\"SPY\"][\"close\"])\n",
    "\n",
    "# Print AGG & SPY close prices\n",
    "print(f\"Current AGG closing price: ${agg_price:0.2f}\")\n",
    "print(f\"Current SPY closing price: ${spy_price:0.2f}\")"
   ]
  },
  {
   "cell_type": "code",
   "execution_count": 12,
   "metadata": {},
   "outputs": [
    {
     "name": "stdout",
     "output_type": "stream",
     "text": [
      "The current value of my 200 AGG shares is $23503.00\n",
      "The current value of my 50 SPY shares is $17134.50\n"
     ]
    }
   ],
   "source": [
    "# Current value of shares\n",
    "\n",
    "my_agg_value = my_agg*agg_price\n",
    "my_spy_value = my_spy*spy_price\n",
    "\n",
    "# Print Current value of shares\n",
    "print(f\"The current value of my {my_agg} AGG shares is ${my_agg_value:0.2f}\")\n",
    "print(f\"The current value of my {my_spy} SPY shares is ${my_spy_value:0.2f}\")\n"
   ]
  },
  {
   "cell_type": "markdown",
   "metadata": {},
   "source": [
    "### Savings Health Analysis"
   ]
  },
  {
   "cell_type": "code",
   "execution_count": 13,
   "metadata": {},
   "outputs": [
    {
     "data": {
      "text/html": [
       "<div>\n",
       "<style scoped>\n",
       "    .dataframe tbody tr th:only-of-type {\n",
       "        vertical-align: middle;\n",
       "    }\n",
       "\n",
       "    .dataframe tbody tr th {\n",
       "        vertical-align: top;\n",
       "    }\n",
       "\n",
       "    .dataframe thead th {\n",
       "        text-align: right;\n",
       "    }\n",
       "</style>\n",
       "<table border=\"1\" class=\"dataframe\">\n",
       "  <thead>\n",
       "    <tr style=\"text-align: right;\">\n",
       "      <th></th>\n",
       "      <th>amount</th>\n",
       "    </tr>\n",
       "  </thead>\n",
       "  <tbody>\n",
       "    <tr>\n",
       "      <th>crypto</th>\n",
       "      <td>17938.177</td>\n",
       "    </tr>\n",
       "    <tr>\n",
       "      <th>shares</th>\n",
       "      <td>40637.500</td>\n",
       "    </tr>\n",
       "  </tbody>\n",
       "</table>\n",
       "</div>"
      ],
      "text/plain": [
       "           amount\n",
       "crypto  17938.177\n",
       "shares  40637.500"
      ]
     },
     "execution_count": 13,
     "metadata": {},
     "output_type": "execute_result"
    }
   ],
   "source": [
    "# Set monthly household income\n",
    "monthly_income = 12000\n",
    "\n",
    "# Savings DataFrame\n",
    "value_data = {\n",
    "    \"amount\":[my_btc_value+my_eth_value, my_agg_value+my_spy_value]\n",
    "}\n",
    "# Set index\n",
    "category = [\"crypto\", \"shares\"]\n",
    "\n",
    "df_savings = pd.DataFrame(value_data, index=category)\n",
    "\n",
    "# Display\n",
    "df_savings"
   ]
  },
  {
   "cell_type": "code",
   "execution_count": 14,
   "metadata": {},
   "outputs": [
    {
     "data": {
      "text/plain": [
       "<matplotlib.axes._subplots.AxesSubplot at 0x7fa3f7937150>"
      ]
     },
     "execution_count": 14,
     "metadata": {},
     "output_type": "execute_result"
    },
    {
     "data": {
      "image/png": "[encoded data removed]",
      "text/plain": [
       "<Figure size 432x288 with 1 Axes>"
      ]
     },
     "metadata": {},
     "output_type": "display_data"
    }
   ],
   "source": [
    "# Plot Savings Pie Chart\n",
    "df_savings.plot.pie(y=\"amount\", title=\"Composition of Personal Savings\")"
   ]
  },
  {
   "cell_type": "code",
   "execution_count": 15,
   "metadata": {},
   "outputs": [
    {
     "name": "stdout",
     "output_type": "stream",
     "text": [
      "Congrats! You have enough money in your emergency fund.\n"
     ]
    }
   ],
   "source": [
    "# Set ideal emergency fund\n",
    "emergency_fund = monthly_income * 3\n",
    "\n",
    "# Calculate total amount of savings\n",
    "total_savings = my_btc_value+my_eth_value + my_agg_value+my_spy_value\n",
    "\n",
    "# Shortfall\n",
    "\n",
    "shortfall = emergency_fund - total_savings\n",
    "\n",
    "# Validate saving health\n",
    "if total_savings >= emergency_fund:\n",
    "    print(\"Congrats! You have enough money in your emergency fund.\")\n",
    "else:\n",
    "    print(f\"You are $ {shortfall} away from reaching your goal\")"
   ]
  },
  {
   "cell_type": "markdown",
   "metadata": {},
   "source": [
    "## Part 2 - Retirement Planning"
   ]
  },
  {
   "cell_type": "markdown",
   "metadata": {},
   "source": [
    "### Monte Carlo Simulation"
   ]
  },
  {
   "cell_type": "code",
   "execution_count": 16,
   "metadata": {},
   "outputs": [],
   "source": [
    "# Set timeframe to '1D'\n",
    "timeframe = \"1D\"\n",
    "\n",
    "# set ticker information\n",
    "\n",
    "tickers = [\"SPY\", \"AGG\"]\n",
    "\n",
    "# Set start and end dates of five years back from today.\n",
    "start_date = pd.Timestamp('2015-10-21', tz='America/New_York').isoformat()\n",
    "end_date = pd.Timestamp('2020-10-21', tz='America/New_York').isoformat()"
   ]
  },
  {
   "cell_type": "code",
   "execution_count": 17,
   "metadata": {},
   "outputs": [
    {
     "data": {
      "text/html": [
       "<div>\n",
       "<style scoped>\n",
       "    .dataframe tbody tr th:only-of-type {\n",
       "        vertical-align: middle;\n",
       "    }\n",
       "\n",
       "    .dataframe tbody tr th {\n",
       "        vertical-align: top;\n",
       "    }\n",
       "\n",
       "    .dataframe thead tr th {\n",
       "        text-align: left;\n",
       "    }\n",
       "</style>\n",
       "<table border=\"1\" class=\"dataframe\">\n",
       "  <thead>\n",
       "    <tr>\n",
       "      <th></th>\n",
       "      <th colspan=\"5\" halign=\"left\">AGG</th>\n",
       "      <th colspan=\"5\" halign=\"left\">SPY</th>\n",
       "    </tr>\n",
       "    <tr>\n",
       "      <th></th>\n",
       "      <th>open</th>\n",
       "      <th>high</th>\n",
       "      <th>low</th>\n",
       "      <th>close</th>\n",
       "      <th>volume</th>\n",
       "      <th>open</th>\n",
       "      <th>high</th>\n",
       "      <th>low</th>\n",
       "      <th>close</th>\n",
       "      <th>volume</th>\n",
       "    </tr>\n",
       "  </thead>\n",
       "  <tbody>\n",
       "    <tr>\n",
       "      <th>2015-10-21 00:00:00-04:00</th>\n",
       "      <td>109.73</td>\n",
       "      <td>109.95</td>\n",
       "      <td>109.73</td>\n",
       "      <td>109.89</td>\n",
       "      <td>1119723</td>\n",
       "      <td>203.61</td>\n",
       "      <td>203.79</td>\n",
       "      <td>201.65</td>\n",
       "      <td>201.82</td>\n",
       "      <td>83704739</td>\n",
       "    </tr>\n",
       "    <tr>\n",
       "      <th>2015-10-22 00:00:00-04:00</th>\n",
       "      <td>109.90</td>\n",
       "      <td>110.05</td>\n",
       "      <td>109.83</td>\n",
       "      <td>109.94</td>\n",
       "      <td>1817244</td>\n",
       "      <td>202.98</td>\n",
       "      <td>205.51</td>\n",
       "      <td>202.81</td>\n",
       "      <td>205.22</td>\n",
       "      <td>121670959</td>\n",
       "    </tr>\n",
       "    <tr>\n",
       "      <th>2015-10-23 00:00:00-04:00</th>\n",
       "      <td>109.79</td>\n",
       "      <td>109.79</td>\n",
       "      <td>109.69</td>\n",
       "      <td>109.74</td>\n",
       "      <td>1344632</td>\n",
       "      <td>207.25</td>\n",
       "      <td>207.95</td>\n",
       "      <td>206.30</td>\n",
       "      <td>207.51</td>\n",
       "      <td>103135843</td>\n",
       "    </tr>\n",
       "    <tr>\n",
       "      <th>2015-10-26 00:00:00-04:00</th>\n",
       "      <td>109.85</td>\n",
       "      <td>109.90</td>\n",
       "      <td>109.74</td>\n",
       "      <td>109.79</td>\n",
       "      <td>1385981</td>\n",
       "      <td>207.30</td>\n",
       "      <td>207.37</td>\n",
       "      <td>206.56</td>\n",
       "      <td>206.97</td>\n",
       "      <td>51484043</td>\n",
       "    </tr>\n",
       "    <tr>\n",
       "      <th>2015-10-27 00:00:00-04:00</th>\n",
       "      <td>110.03</td>\n",
       "      <td>110.03</td>\n",
       "      <td>109.88</td>\n",
       "      <td>109.95</td>\n",
       "      <td>1791888</td>\n",
       "      <td>206.20</td>\n",
       "      <td>207.00</td>\n",
       "      <td>205.79</td>\n",
       "      <td>206.58</td>\n",
       "      <td>62899344</td>\n",
       "    </tr>\n",
       "  </tbody>\n",
       "</table>\n",
       "</div>"
      ],
      "text/plain": [
       "                              AGG                                      SPY  \\\n",
       "                             open    high     low   close   volume    open   \n",
       "2015-10-21 00:00:00-04:00  109.73  109.95  109.73  109.89  1119723  203.61   \n",
       "2015-10-22 00:00:00-04:00  109.90  110.05  109.83  109.94  1817244  202.98   \n",
       "2015-10-23 00:00:00-04:00  109.79  109.79  109.69  109.74  1344632  207.25   \n",
       "2015-10-26 00:00:00-04:00  109.85  109.90  109.74  109.79  1385981  207.30   \n",
       "2015-10-27 00:00:00-04:00  110.03  110.03  109.88  109.95  1791888  206.20   \n",
       "\n",
       "                                                              \n",
       "                             high     low   close     volume  \n",
       "2015-10-21 00:00:00-04:00  203.79  201.65  201.82   83704739  \n",
       "2015-10-22 00:00:00-04:00  205.51  202.81  205.22  121670959  \n",
       "2015-10-23 00:00:00-04:00  207.95  206.30  207.51  103135843  \n",
       "2015-10-26 00:00:00-04:00  207.37  206.56  206.97   51484043  \n",
       "2015-10-27 00:00:00-04:00  207.00  205.79  206.58   62899344  "
      ]
     },
     "execution_count": 17,
     "metadata": {},
     "output_type": "execute_result"
    }
   ],
   "source": [
    "# Fetch past 5 years' of data for SPY &  AGG\n",
    "df_ticker = df_ticker = api.get_barset(\n",
    "    tickers,\n",
    "    timeframe,\n",
    "    start=start_date,\n",
    "    end=end_date\n",
    ").df\n",
    "\n",
    "# Display data\n",
    "df_ticker.head()\n"
   ]
  },
  {
   "cell_type": "code",
   "execution_count": 18,
   "metadata": {},
   "outputs": [],
   "source": [
    "# Configure Monte Carlo to forecast 30 years cumulative returns, 60% SPY/ 40% AGG\n",
    "\n",
    "etf_distribution = MC_even_dist = MCSimulation(\n",
    "    portfolio_data = df_ticker,\n",
    "    weights = [.6,.4],\n",
    "    num_simulation = 500,\n",
    "    num_trading_days = 252*30\n",
    ")"
   ]
  },
  {
   "cell_type": "code",
   "execution_count": 19,
   "metadata": {},
   "outputs": [
    {
     "data": {
      "text/html": [
       "<div>\n",
       "<style scoped>\n",
       "    .dataframe tbody tr th:only-of-type {\n",
       "        vertical-align: middle;\n",
       "    }\n",
       "\n",
       "    .dataframe tbody tr th {\n",
       "        vertical-align: top;\n",
       "    }\n",
       "\n",
       "    .dataframe thead tr th {\n",
       "        text-align: left;\n",
       "    }\n",
       "</style>\n",
       "<table border=\"1\" class=\"dataframe\">\n",
       "  <thead>\n",
       "    <tr>\n",
       "      <th></th>\n",
       "      <th colspan=\"6\" halign=\"left\">AGG</th>\n",
       "      <th colspan=\"6\" halign=\"left\">SPY</th>\n",
       "    </tr>\n",
       "    <tr>\n",
       "      <th></th>\n",
       "      <th>open</th>\n",
       "      <th>high</th>\n",
       "      <th>low</th>\n",
       "      <th>close</th>\n",
       "      <th>volume</th>\n",
       "      <th>daily_return</th>\n",
       "      <th>open</th>\n",
       "      <th>high</th>\n",
       "      <th>low</th>\n",
       "      <th>close</th>\n",
       "      <th>volume</th>\n",
       "      <th>daily_return</th>\n",
       "    </tr>\n",
       "  </thead>\n",
       "  <tbody>\n",
       "    <tr>\n",
       "      <th>2015-10-21 00:00:00-04:00</th>\n",
       "      <td>109.73</td>\n",
       "      <td>109.95</td>\n",
       "      <td>109.73</td>\n",
       "      <td>109.89</td>\n",
       "      <td>1119723</td>\n",
       "      <td>NaN</td>\n",
       "      <td>203.61</td>\n",
       "      <td>203.79</td>\n",
       "      <td>201.65</td>\n",
       "      <td>201.82</td>\n",
       "      <td>83704739</td>\n",
       "      <td>NaN</td>\n",
       "    </tr>\n",
       "    <tr>\n",
       "      <th>2015-10-22 00:00:00-04:00</th>\n",
       "      <td>109.90</td>\n",
       "      <td>110.05</td>\n",
       "      <td>109.83</td>\n",
       "      <td>109.94</td>\n",
       "      <td>1817244</td>\n",
       "      <td>0.000455</td>\n",
       "      <td>202.98</td>\n",
       "      <td>205.51</td>\n",
       "      <td>202.81</td>\n",
       "      <td>205.22</td>\n",
       "      <td>121670959</td>\n",
       "      <td>0.016847</td>\n",
       "    </tr>\n",
       "    <tr>\n",
       "      <th>2015-10-23 00:00:00-04:00</th>\n",
       "      <td>109.79</td>\n",
       "      <td>109.79</td>\n",
       "      <td>109.69</td>\n",
       "      <td>109.74</td>\n",
       "      <td>1344632</td>\n",
       "      <td>-0.001819</td>\n",
       "      <td>207.25</td>\n",
       "      <td>207.95</td>\n",
       "      <td>206.30</td>\n",
       "      <td>207.51</td>\n",
       "      <td>103135843</td>\n",
       "      <td>0.011159</td>\n",
       "    </tr>\n",
       "    <tr>\n",
       "      <th>2015-10-26 00:00:00-04:00</th>\n",
       "      <td>109.85</td>\n",
       "      <td>109.90</td>\n",
       "      <td>109.74</td>\n",
       "      <td>109.79</td>\n",
       "      <td>1385981</td>\n",
       "      <td>0.000456</td>\n",
       "      <td>207.30</td>\n",
       "      <td>207.37</td>\n",
       "      <td>206.56</td>\n",
       "      <td>206.97</td>\n",
       "      <td>51484043</td>\n",
       "      <td>-0.002602</td>\n",
       "    </tr>\n",
       "    <tr>\n",
       "      <th>2015-10-27 00:00:00-04:00</th>\n",
       "      <td>110.03</td>\n",
       "      <td>110.03</td>\n",
       "      <td>109.88</td>\n",
       "      <td>109.95</td>\n",
       "      <td>1791888</td>\n",
       "      <td>0.001457</td>\n",
       "      <td>206.20</td>\n",
       "      <td>207.00</td>\n",
       "      <td>205.79</td>\n",
       "      <td>206.58</td>\n",
       "      <td>62899344</td>\n",
       "      <td>-0.001884</td>\n",
       "    </tr>\n",
       "  </tbody>\n",
       "</table>\n",
       "</div>"
      ],
      "text/plain": [
       "                              AGG                                   \\\n",
       "                             open    high     low   close   volume   \n",
       "2015-10-21 00:00:00-04:00  109.73  109.95  109.73  109.89  1119723   \n",
       "2015-10-22 00:00:00-04:00  109.90  110.05  109.83  109.94  1817244   \n",
       "2015-10-23 00:00:00-04:00  109.79  109.79  109.69  109.74  1344632   \n",
       "2015-10-26 00:00:00-04:00  109.85  109.90  109.74  109.79  1385981   \n",
       "2015-10-27 00:00:00-04:00  110.03  110.03  109.88  109.95  1791888   \n",
       "\n",
       "                                           SPY                          \\\n",
       "                          daily_return    open    high     low   close   \n",
       "2015-10-21 00:00:00-04:00          NaN  203.61  203.79  201.65  201.82   \n",
       "2015-10-22 00:00:00-04:00     0.000455  202.98  205.51  202.81  205.22   \n",
       "2015-10-23 00:00:00-04:00    -0.001819  207.25  207.95  206.30  207.51   \n",
       "2015-10-26 00:00:00-04:00     0.000456  207.30  207.37  206.56  206.97   \n",
       "2015-10-27 00:00:00-04:00     0.001457  206.20  207.00  205.79  206.58   \n",
       "\n",
       "                                                   \n",
       "                              volume daily_return  \n",
       "2015-10-21 00:00:00-04:00   83704739          NaN  \n",
       "2015-10-22 00:00:00-04:00  121670959     0.016847  \n",
       "2015-10-23 00:00:00-04:00  103135843     0.011159  \n",
       "2015-10-26 00:00:00-04:00   51484043    -0.002602  \n",
       "2015-10-27 00:00:00-04:00   62899344    -0.001884  "
      ]
     },
     "execution_count": 19,
     "metadata": {},
     "output_type": "execute_result"
    }
   ],
   "source": [
    "# Print sample simulation\n",
    "\n",
    "etf_distribution.portfolio_data.head()"
   ]
  },
  {
   "cell_type": "code",
   "execution_count": 20,
   "metadata": {},
   "outputs": [
    {
     "name": "stdout",
     "output_type": "stream",
     "text": [
      "Running Monte Carlo simulation number 0.\n",
      "Running Monte Carlo simulation number 10.\n",
      "Running Monte Carlo simulation number 20.\n",
      "Running Monte Carlo simulation number 30.\n",
      "Running Monte Carlo simulation number 40.\n",
      "Running Monte Carlo simulation number 50.\n",
      "Running Monte Carlo simulation number 60.\n",
      "Running Monte Carlo simulation number 70.\n",
      "Running Monte Carlo simulation number 80.\n",
      "Running Monte Carlo simulation number 90.\n",
      "Running Monte Carlo simulation number 100.\n",
      "Running Monte Carlo simulation number 110.\n",
      "Running Monte Carlo simulation number 120.\n",
      "Running Monte Carlo simulation number 130.\n",
      "Running Monte Carlo simulation number 140.\n",
      "Running Monte Carlo simulation number 150.\n",
      "Running Monte Carlo simulation number 160.\n",
      "Running Monte Carlo simulation number 170.\n",
      "Running Monte Carlo simulation number 180.\n",
      "Running Monte Carlo simulation number 190.\n",
      "Running Monte Carlo simulation number 200.\n",
      "Running Monte Carlo simulation number 210.\n",
      "Running Monte Carlo simulation number 220.\n",
      "Running Monte Carlo simulation number 230.\n",
      "Running Monte Carlo simulation number 240.\n",
      "Running Monte Carlo simulation number 250.\n",
      "Running Monte Carlo simulation number 260.\n",
      "Running Monte Carlo simulation number 270.\n",
      "Running Monte Carlo simulation number 280.\n",
      "Running Monte Carlo simulation number 290.\n",
      "Running Monte Carlo simulation number 300.\n",
      "Running Monte Carlo simulation number 310.\n",
      "Running Monte Carlo simulation number 320.\n",
      "Running Monte Carlo simulation number 330.\n",
      "Running Monte Carlo simulation number 340.\n",
      "Running Monte Carlo simulation number 350.\n",
      "Running Monte Carlo simulation number 360.\n",
      "Running Monte Carlo simulation number 370.\n",
      "Running Monte Carlo simulation number 380.\n",
      "Running Monte Carlo simulation number 390.\n",
      "Running Monte Carlo simulation number 400.\n",
      "Running Monte Carlo simulation number 410.\n",
      "Running Monte Carlo simulation number 420.\n",
      "Running Monte Carlo simulation number 430.\n",
      "Running Monte Carlo simulation number 440.\n",
      "Running Monte Carlo simulation number 450.\n",
      "Running Monte Carlo simulation number 460.\n",
      "Running Monte Carlo simulation number 470.\n",
      "Running Monte Carlo simulation number 480.\n",
      "Running Monte Carlo simulation number 490.\n"
     ]
    },
    {
     "data": {
      "text/html": [
       "<div>\n",
       "<style scoped>\n",
       "    .dataframe tbody tr th:only-of-type {\n",
       "        vertical-align: middle;\n",
       "    }\n",
       "\n",
       "    .dataframe tbody tr th {\n",
       "        vertical-align: top;\n",
       "    }\n",
       "\n",
       "    .dataframe thead th {\n",
       "        text-align: right;\n",
       "    }\n",
       "</style>\n",
       "<table border=\"1\" class=\"dataframe\">\n",
       "  <thead>\n",
       "    <tr style=\"text-align: right;\">\n",
       "      <th></th>\n",
       "      <th>0</th>\n",
       "      <th>1</th>\n",
       "      <th>2</th>\n",
       "      <th>3</th>\n",
       "      <th>4</th>\n",
       "      <th>5</th>\n",
       "      <th>6</th>\n",
       "      <th>7</th>\n",
       "      <th>8</th>\n",
       "      <th>9</th>\n",
       "      <th>...</th>\n",
       "      <th>490</th>\n",
       "      <th>491</th>\n",
       "      <th>492</th>\n",
       "      <th>493</th>\n",
       "      <th>494</th>\n",
       "      <th>495</th>\n",
       "      <th>496</th>\n",
       "      <th>497</th>\n",
       "      <th>498</th>\n",
       "      <th>499</th>\n",
       "    </tr>\n",
       "  </thead>\n",
       "  <tbody>\n",
       "    <tr>\n",
       "      <th>0</th>\n",
       "      <td>1.000000</td>\n",
       "      <td>1.000000</td>\n",
       "      <td>1.000000</td>\n",
       "      <td>1.000000</td>\n",
       "      <td>1.000000</td>\n",
       "      <td>1.000000</td>\n",
       "      <td>1.000000</td>\n",
       "      <td>1.000000</td>\n",
       "      <td>1.000000</td>\n",
       "      <td>1.000000</td>\n",
       "      <td>...</td>\n",
       "      <td>1.000000</td>\n",
       "      <td>1.000000</td>\n",
       "      <td>1.000000</td>\n",
       "      <td>1.000000</td>\n",
       "      <td>1.000000</td>\n",
       "      <td>1.000000</td>\n",
       "      <td>1.000000</td>\n",
       "      <td>1.000000</td>\n",
       "      <td>1.000000</td>\n",
       "      <td>1.000000</td>\n",
       "    </tr>\n",
       "    <tr>\n",
       "      <th>1</th>\n",
       "      <td>0.997820</td>\n",
       "      <td>1.003572</td>\n",
       "      <td>1.004290</td>\n",
       "      <td>1.002213</td>\n",
       "      <td>0.995270</td>\n",
       "      <td>0.998435</td>\n",
       "      <td>0.994218</td>\n",
       "      <td>1.003302</td>\n",
       "      <td>0.991960</td>\n",
       "      <td>0.995012</td>\n",
       "      <td>...</td>\n",
       "      <td>1.002975</td>\n",
       "      <td>0.992333</td>\n",
       "      <td>1.006842</td>\n",
       "      <td>1.001451</td>\n",
       "      <td>0.989717</td>\n",
       "      <td>0.995507</td>\n",
       "      <td>1.007188</td>\n",
       "      <td>0.995406</td>\n",
       "      <td>1.006927</td>\n",
       "      <td>0.996171</td>\n",
       "    </tr>\n",
       "    <tr>\n",
       "      <th>2</th>\n",
       "      <td>0.997062</td>\n",
       "      <td>1.003280</td>\n",
       "      <td>1.007286</td>\n",
       "      <td>0.999940</td>\n",
       "      <td>0.986820</td>\n",
       "      <td>0.994689</td>\n",
       "      <td>0.993222</td>\n",
       "      <td>1.002354</td>\n",
       "      <td>0.997567</td>\n",
       "      <td>0.998494</td>\n",
       "      <td>...</td>\n",
       "      <td>1.002499</td>\n",
       "      <td>0.991676</td>\n",
       "      <td>1.011371</td>\n",
       "      <td>1.002666</td>\n",
       "      <td>0.988459</td>\n",
       "      <td>1.001184</td>\n",
       "      <td>1.006000</td>\n",
       "      <td>0.998336</td>\n",
       "      <td>0.998069</td>\n",
       "      <td>0.993468</td>\n",
       "    </tr>\n",
       "    <tr>\n",
       "      <th>3</th>\n",
       "      <td>0.997653</td>\n",
       "      <td>1.006103</td>\n",
       "      <td>1.007187</td>\n",
       "      <td>0.993245</td>\n",
       "      <td>0.976712</td>\n",
       "      <td>0.993890</td>\n",
       "      <td>0.990212</td>\n",
       "      <td>1.001264</td>\n",
       "      <td>0.988677</td>\n",
       "      <td>0.996470</td>\n",
       "      <td>...</td>\n",
       "      <td>1.008116</td>\n",
       "      <td>0.996913</td>\n",
       "      <td>1.007128</td>\n",
       "      <td>1.006789</td>\n",
       "      <td>0.996416</td>\n",
       "      <td>1.001501</td>\n",
       "      <td>1.012146</td>\n",
       "      <td>0.990702</td>\n",
       "      <td>1.003793</td>\n",
       "      <td>0.991585</td>\n",
       "    </tr>\n",
       "    <tr>\n",
       "      <th>4</th>\n",
       "      <td>0.993604</td>\n",
       "      <td>1.010848</td>\n",
       "      <td>0.998921</td>\n",
       "      <td>0.985015</td>\n",
       "      <td>0.969417</td>\n",
       "      <td>0.997576</td>\n",
       "      <td>0.990706</td>\n",
       "      <td>0.999862</td>\n",
       "      <td>0.986225</td>\n",
       "      <td>1.001740</td>\n",
       "      <td>...</td>\n",
       "      <td>1.004825</td>\n",
       "      <td>1.003379</td>\n",
       "      <td>1.004223</td>\n",
       "      <td>1.003444</td>\n",
       "      <td>0.994511</td>\n",
       "      <td>0.996157</td>\n",
       "      <td>1.010294</td>\n",
       "      <td>0.997417</td>\n",
       "      <td>1.005853</td>\n",
       "      <td>0.978423</td>\n",
       "    </tr>\n",
       "    <tr>\n",
       "      <th>...</th>\n",
       "      <td>...</td>\n",
       "      <td>...</td>\n",
       "      <td>...</td>\n",
       "      <td>...</td>\n",
       "      <td>...</td>\n",
       "      <td>...</td>\n",
       "      <td>...</td>\n",
       "      <td>...</td>\n",
       "      <td>...</td>\n",
       "      <td>...</td>\n",
       "      <td>...</td>\n",
       "      <td>...</td>\n",
       "      <td>...</td>\n",
       "      <td>...</td>\n",
       "      <td>...</td>\n",
       "      <td>...</td>\n",
       "      <td>...</td>\n",
       "      <td>...</td>\n",
       "      <td>...</td>\n",
       "      <td>...</td>\n",
       "      <td>...</td>\n",
       "    </tr>\n",
       "    <tr>\n",
       "      <th>7556</th>\n",
       "      <td>3.242193</td>\n",
       "      <td>6.709983</td>\n",
       "      <td>7.969139</td>\n",
       "      <td>5.970324</td>\n",
       "      <td>4.235940</td>\n",
       "      <td>4.147143</td>\n",
       "      <td>4.344131</td>\n",
       "      <td>4.442902</td>\n",
       "      <td>4.996355</td>\n",
       "      <td>5.904748</td>\n",
       "      <td>...</td>\n",
       "      <td>5.083636</td>\n",
       "      <td>6.341483</td>\n",
       "      <td>8.411131</td>\n",
       "      <td>3.658699</td>\n",
       "      <td>9.569479</td>\n",
       "      <td>5.953990</td>\n",
       "      <td>6.067382</td>\n",
       "      <td>3.789596</td>\n",
       "      <td>8.277598</td>\n",
       "      <td>11.162513</td>\n",
       "    </tr>\n",
       "    <tr>\n",
       "      <th>7557</th>\n",
       "      <td>3.244713</td>\n",
       "      <td>6.720797</td>\n",
       "      <td>7.908865</td>\n",
       "      <td>5.955474</td>\n",
       "      <td>4.229249</td>\n",
       "      <td>4.123121</td>\n",
       "      <td>4.390455</td>\n",
       "      <td>4.468669</td>\n",
       "      <td>4.960766</td>\n",
       "      <td>5.963492</td>\n",
       "      <td>...</td>\n",
       "      <td>5.081104</td>\n",
       "      <td>6.310847</td>\n",
       "      <td>8.459384</td>\n",
       "      <td>3.649415</td>\n",
       "      <td>9.542877</td>\n",
       "      <td>5.947785</td>\n",
       "      <td>6.048985</td>\n",
       "      <td>3.806442</td>\n",
       "      <td>8.330206</td>\n",
       "      <td>11.257364</td>\n",
       "    </tr>\n",
       "    <tr>\n",
       "      <th>7558</th>\n",
       "      <td>3.231896</td>\n",
       "      <td>6.686722</td>\n",
       "      <td>7.973931</td>\n",
       "      <td>5.917539</td>\n",
       "      <td>4.259020</td>\n",
       "      <td>4.094670</td>\n",
       "      <td>4.363220</td>\n",
       "      <td>4.456760</td>\n",
       "      <td>4.989054</td>\n",
       "      <td>5.984569</td>\n",
       "      <td>...</td>\n",
       "      <td>5.102429</td>\n",
       "      <td>6.305664</td>\n",
       "      <td>8.500593</td>\n",
       "      <td>3.648429</td>\n",
       "      <td>9.512937</td>\n",
       "      <td>5.959966</td>\n",
       "      <td>6.068489</td>\n",
       "      <td>3.810292</td>\n",
       "      <td>8.352030</td>\n",
       "      <td>11.231141</td>\n",
       "    </tr>\n",
       "    <tr>\n",
       "      <th>7559</th>\n",
       "      <td>3.240858</td>\n",
       "      <td>6.656783</td>\n",
       "      <td>7.952102</td>\n",
       "      <td>5.958954</td>\n",
       "      <td>4.267398</td>\n",
       "      <td>4.095731</td>\n",
       "      <td>4.382358</td>\n",
       "      <td>4.425983</td>\n",
       "      <td>4.995440</td>\n",
       "      <td>5.972000</td>\n",
       "      <td>...</td>\n",
       "      <td>5.090368</td>\n",
       "      <td>6.317191</td>\n",
       "      <td>8.488776</td>\n",
       "      <td>3.646899</td>\n",
       "      <td>9.580990</td>\n",
       "      <td>5.963649</td>\n",
       "      <td>6.095772</td>\n",
       "      <td>3.811758</td>\n",
       "      <td>8.393983</td>\n",
       "      <td>11.284308</td>\n",
       "    </tr>\n",
       "    <tr>\n",
       "      <th>7560</th>\n",
       "      <td>3.231123</td>\n",
       "      <td>6.632637</td>\n",
       "      <td>7.881130</td>\n",
       "      <td>5.974921</td>\n",
       "      <td>4.239969</td>\n",
       "      <td>4.093118</td>\n",
       "      <td>4.358931</td>\n",
       "      <td>4.472967</td>\n",
       "      <td>4.994833</td>\n",
       "      <td>5.941321</td>\n",
       "      <td>...</td>\n",
       "      <td>5.059242</td>\n",
       "      <td>6.336776</td>\n",
       "      <td>8.478138</td>\n",
       "      <td>3.662457</td>\n",
       "      <td>9.637513</td>\n",
       "      <td>5.975661</td>\n",
       "      <td>6.048990</td>\n",
       "      <td>3.822713</td>\n",
       "      <td>8.391956</td>\n",
       "      <td>11.304665</td>\n",
       "    </tr>\n",
       "  </tbody>\n",
       "</table>\n",
       "<p>7561 rows × 500 columns</p>\n",
       "</div>"
      ],
      "text/plain": [
       "           0         1         2         3         4         5         6    \\\n",
       "0     1.000000  1.000000  1.000000  1.000000  1.000000  1.000000  1.000000   \n",
       "1     0.997820  1.003572  1.004290  1.002213  0.995270  0.998435  0.994218   \n",
       "2     0.997062  1.003280  1.007286  0.999940  0.986820  0.994689  0.993222   \n",
       "3     0.997653  1.006103  1.007187  0.993245  0.976712  0.993890  0.990212   \n",
       "4     0.993604  1.010848  0.998921  0.985015  0.969417  0.997576  0.990706   \n",
       "...        ...       ...       ...       ...       ...       ...       ...   \n",
       "7556  3.242193  6.709983  7.969139  5.970324  4.235940  4.147143  4.344131   \n",
       "7557  3.244713  6.720797  7.908865  5.955474  4.229249  4.123121  4.390455   \n",
       "7558  3.231896  6.686722  7.973931  5.917539  4.259020  4.094670  4.363220   \n",
       "7559  3.240858  6.656783  7.952102  5.958954  4.267398  4.095731  4.382358   \n",
       "7560  3.231123  6.632637  7.881130  5.974921  4.239969  4.093118  4.358931   \n",
       "\n",
       "           7         8         9    ...       490       491       492  \\\n",
       "0     1.000000  1.000000  1.000000  ...  1.000000  1.000000  1.000000   \n",
       "1     1.003302  0.991960  0.995012  ...  1.002975  0.992333  1.006842   \n",
       "2     1.002354  0.997567  0.998494  ...  1.002499  0.991676  1.011371   \n",
       "3     1.001264  0.988677  0.996470  ...  1.008116  0.996913  1.007128   \n",
       "4     0.999862  0.986225  1.001740  ...  1.004825  1.003379  1.004223   \n",
       "...        ...       ...       ...  ...       ...       ...       ...   \n",
       "7556  4.442902  4.996355  5.904748  ...  5.083636  6.341483  8.411131   \n",
       "7557  4.468669  4.960766  5.963492  ...  5.081104  6.310847  8.459384   \n",
       "7558  4.456760  4.989054  5.984569  ...  5.102429  6.305664  8.500593   \n",
       "7559  4.425983  4.995440  5.972000  ...  5.090368  6.317191  8.488776   \n",
       "7560  4.472967  4.994833  5.941321  ...  5.059242  6.336776  8.478138   \n",
       "\n",
       "           493       494       495       496       497       498        499  \n",
       "0     1.000000  1.000000  1.000000  1.000000  1.000000  1.000000   1.000000  \n",
       "1     1.001451  0.989717  0.995507  1.007188  0.995406  1.006927   0.996171  \n",
       "2     1.002666  0.988459  1.001184  1.006000  0.998336  0.998069   0.993468  \n",
       "3     1.006789  0.996416  1.001501  1.012146  0.990702  1.003793   0.991585  \n",
       "4     1.003444  0.994511  0.996157  1.010294  0.997417  1.005853   0.978423  \n",
       "...        ...       ...       ...       ...       ...       ...        ...  \n",
       "7556  3.658699  9.569479  5.953990  6.067382  3.789596  8.277598  11.162513  \n",
       "7557  3.649415  9.542877  5.947785  6.048985  3.806442  8.330206  11.257364  \n",
       "7558  3.648429  9.512937  5.959966  6.068489  3.810292  8.352030  11.231141  \n",
       "7559  3.646899  9.580990  5.963649  6.095772  3.811758  8.393983  11.284308  \n",
       "7560  3.662457  9.637513  5.975661  6.048990  3.822713  8.391956  11.304665  \n",
       "\n",
       "[7561 rows x 500 columns]"
      ]
     },
     "execution_count": 20,
     "metadata": {},
     "output_type": "execute_result"
    }
   ],
   "source": [
    "# Run the Monte Carlo to forecast 30 years of cumulative returns for the blended portfolio\n",
    "etf_distribution.calc_cumulative_return()"
   ]
  },
  {
   "cell_type": "code",
   "execution_count": 21,
   "metadata": {},
   "outputs": [
    {
     "data": {
      "image/png": "[encoded data removed]",
      "text/plain": [
       "<Figure size 432x288 with 1 Axes>"
      ]
     },
     "metadata": {
      "needs_background": "light"
     },
     "output_type": "display_data"
    }
   ],
   "source": [
    "# Plot simulation outcomes\n",
    "line_plot = etf_distribution.plot_simulation()"
   ]
  },
  {
   "cell_type": "code",
   "execution_count": 22,
   "metadata": {},
   "outputs": [
    {
     "data": {
      "image/png": "[encoded data removed]",
      "text/plain": [
       "<Figure size 432x288 with 1 Axes>"
      ]
     },
     "metadata": {
      "needs_background": "light"
     },
     "output_type": "display_data"
    }
   ],
   "source": [
    "# Plot probability distribution and confidence intervals\n",
    "dist_plot = etf_distribution.plot_distribution()"
   ]
  },
  {
   "cell_type": "markdown",
   "metadata": {},
   "source": [
    "### Retirement Analysis"
   ]
  },
  {
   "cell_type": "code",
   "execution_count": 23,
   "metadata": {},
   "outputs": [
    {
     "name": "stdout",
     "output_type": "stream",
     "text": [
      "count           500.000000\n",
      "mean              5.693177\n",
      "std               2.581129\n",
      "min               1.171822\n",
      "25%               3.887624\n",
      "50%               5.284751\n",
      "75%               6.821681\n",
      "max              17.961229\n",
      "95% CI Lower      2.258869\n",
      "95% CI Upper     12.486363\n",
      "Name: 7560, dtype: float64\n"
     ]
    }
   ],
   "source": [
    "# Fetch summary stats from the Monte Carlo simulation\n",
    "etf_summary_tbl = etf_distribution.summarize_cumulative_return()\n",
    "\n",
    "# Print summary stats\n",
    "print(etf_summary_tbl)"
   ]
  },
  {
   "cell_type": "markdown",
   "metadata": {},
   "source": [
    "###  Calculate the expected portfolio return at the 95% lower and upper confidence intervals based on a $20,000 initial investment."
   ]
  },
  {
   "cell_type": "code",
   "execution_count": 24,
   "metadata": {},
   "outputs": [
    {
     "name": "stdout",
     "output_type": "stream",
     "text": [
      "There is a 95% chance that an initial investment of $20000 in the portfolio over the next 30 years will end within in the range of $45177.39 and $249727.25.\n"
     ]
    }
   ],
   "source": [
    "# Set initial investment\n",
    "\n",
    "initial_investment = 20000\n",
    "\n",
    "# Use the lower and upper 95% confidence intervals to calculate the range of outcomes of the $20,000\n",
    "etf_ci_lower = round(etf_summary_tbl[8]*initial_investment,2)\n",
    "etf_ci_upper = round(etf_summary_tbl[9]*initial_investment,2)\n",
    "\n",
    "# Print Results\n",
    "print(f\"There is a 95% chance that an initial investment of ${initial_investment} in the portfolio\"\n",
    "      f\" over the next 30 years will end within in the range of\"\n",
    "      f\" ${etf_ci_lower} and ${etf_ci_upper}.\")"
   ]
  },
  {
   "cell_type": "markdown",
   "metadata": {},
   "source": [
    "### Calculate the expected portfolio return at the 95% lower and upper confidence intervals based on a 50% increase in the initial investment."
   ]
  },
  {
   "cell_type": "code",
   "execution_count": 25,
   "metadata": {},
   "outputs": [
    {
     "name": "stdout",
     "output_type": "stream",
     "text": [
      "There is a 95% chance that an initial investment of $30000.0 in the portfolio over the next 30 years will end within in the range of $67766.08 and $374590.88.\n"
     ]
    }
   ],
   "source": [
    "# Set initial investment\n",
    "initial_investment = 20000 * 1.5\n",
    "\n",
    "# Use the lower and upper `95%` confidence intervals to calculate the range of the possible outcomes of our $30,000\n",
    "etf_ci_lower = round(etf_summary_tbl[8]*initial_investment,2)\n",
    "etf_ci_upper = round(etf_summary_tbl[9]*initial_investment,2)\n",
    "\n",
    "# Print Results\n",
    "print(f\"There is a 95% chance that an initial investment of ${initial_investment} in the portfolio\"\n",
    "      f\" over the next 30 years will end within in the range of\"\n",
    "      f\" ${etf_ci_lower} and ${etf_ci_upper}.\")"
   ]
  },
  {
   "cell_type": "code",
   "execution_count": null,
   "metadata": {},
   "outputs": [],
   "source": []
  },
  {
   "cell_type": "code",
   "execution_count": null,
   "metadata": {},
   "outputs": [],
   "source": []
  },
  {
   "cell_type": "code",
   "execution_count": null,
   "metadata": {},
   "outputs": [],
   "source": []
  }
 ],
 "metadata": {
  "kernelspec": {
   "display_name": "Python 3",
   "language": "python",
   "name": "python3"
  },
  "language_info": {
   "codemirror_mode": {
    "name": "ipython",
    "version": 3
   },
   "file_extension": ".py",
   "mimetype": "text/x-python",
   "name": "python",
   "nbconvert_exporter": "python",
   "pygments_lexer": "ipython3",
   "version": "3.7.7"
  }
 },
 "nbformat": 4,
 "nbformat_minor": 4
}
